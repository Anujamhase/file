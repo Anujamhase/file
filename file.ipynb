{
 "cells": [
  {
   "cell_type": "code",
   "execution_count": 17,
   "id": "5a8afce3",
   "metadata": {},
   "outputs": [],
   "source": [
    "'''1. Write a Python Program to count the number of words and tell how many times that \n",
    "   word occurs and print that in a dictionary.\n",
    "'''\n",
    "text = open(\"poeem.txt\",\"r\")\n",
    "d=dict()\n",
    "for line in text:\n",
    "    line = line.strip()\n",
    "    line = line.lower()\n",
    "    words = line.split(\" \")    "
   ]
  },
  {
   "cell_type": "code",
   "execution_count": 18,
   "id": "73ce60ed",
   "metadata": {},
   "outputs": [
    {
     "name": "stdout",
     "output_type": "stream",
     "text": [
      "and : 1\n",
      "her : 1\n",
      "father : 1\n",
      "was : 2\n",
      "a : 2\n",
      "catholic : 2\n",
      "because : 1\n",
      "his : 1\n",
      "mother : 1\n",
      "or : 1\n",
      "had : 1\n",
      "been. : 1\n"
     ]
    }
   ],
   "source": [
    " for word in words:\n",
    "        if word in d:\n",
    "            d[word] = d[word] + 1\n",
    "        else:\n",
    "            d[word] = 1\n",
    "for key in list(d.keys()):\n",
    "    print(key, \":\", d[key])"
   ]
  },
  {
   "cell_type": "code",
   "execution_count": 19,
   "id": "a57ad395",
   "metadata": {},
   "outputs": [
    {
     "name": "stdout",
     "output_type": "stream",
     "text": [
      "No\n"
     ]
    }
   ],
   "source": [
    "\"2. Input a string and check if its a Pallindrone.\"\n",
    "def isPalindrome(str):\n",
    "    for i in range(0,int(len(str)/2)):\n",
    "        if str[i]!=str[len(str)-i-1]:\n",
    "            return False\n",
    "    return True\n",
    "s=\"Poem\"\n",
    "ans = isPalindrome(s)\n",
    " \n",
    "if (ans):\n",
    "    print(\"Yes\")\n",
    "else:\n",
    "    print(\"No\")"
   ]
  },
  {
   "cell_type": "markdown",
   "id": "d581ae62",
   "metadata": {},
   "source": [
    "\"3. Explain what is Overfitting and Underfitting.\"\n",
    "\n",
    "overfitting=Overfitting occurs when our machine learning model tries to cover all the data points or more than the\n",
    "required data points present in the given dataset.\n",
    "underfitting=Underfitting occurs when our machine learning model is not able to capture the underlying trend of the data"
   ]
  },
  {
   "cell_type": "markdown",
   "id": "07b2ea32",
   "metadata": {},
   "source": [
    "\"4. Explain the types of Preprocessing done before feeding to the ML algorithm.\"\n",
    "\n",
    "1. Acquire the dataset\n",
    "2. Import all the crucial libraries\n",
    "3. Import the dataset\n",
    "4. Identifying and handling the missing values\n",
    "5. Encoding the categorical data\n",
    "6. Splitting the dataset\n",
    "7. Feature scaling"
   ]
  },
  {
   "cell_type": "markdown",
   "id": "394a3757",
   "metadata": {},
   "source": [
    "\"5. Explain the steps in a ML project lifecycle.\"\n",
    "\n",
    "1.Data Collection\n",
    "2.Data Normalization.\n",
    "3.Data Modeling. \n",
    "4.Model Training and Feature Engineering.\n",
    "5.Deploying Models to Production."
   ]
  }
 ],
 "metadata": {
  "kernelspec": {
   "display_name": "Python 3",
   "language": "python",
   "name": "python3"
  },
  "language_info": {
   "codemirror_mode": {
    "name": "ipython",
    "version": 3
   },
   "file_extension": ".py",
   "mimetype": "text/x-python",
   "name": "python",
   "nbconvert_exporter": "python",
   "pygments_lexer": "ipython3",
   "version": "3.8.8"
  }
 },
 "nbformat": 4,
 "nbformat_minor": 5
}
